{
 "cells": [
  {
   "cell_type": "code",
   "execution_count": 22,
   "metadata": {},
   "outputs": [],
   "source": [
    "import pandas as pd\n",
    "import numpy as np\n",
    "import matplotlib.pyplot as plt\n",
    "import seaborn as sns"
   ]
  },
  {
   "cell_type": "code",
   "execution_count": 23,
   "metadata": {},
   "outputs": [],
   "source": [
    "import pandas as pd\n",
    "\n",
    "# csv 파일을 불러와서 데이터프레임으로 변환\n",
    "df = pd.read_csv('./eda-proj-fc-purchase.csv')\n",
    "\n",
    "# h열만 남기고 모든 열 삭제\n",
    "df = df[['코스(상품) 이름']]\n",
    "\n",
    "# 새로운 파일로 저장\n",
    "df.to_csv('./name.csv')\n"
   ]
  },
  {
   "cell_type": "code",
   "execution_count": 24,
   "metadata": {},
   "outputs": [
    {
     "data": {
      "text/html": [
       "<div>\n",
       "<style scoped>\n",
       "    .dataframe tbody tr th:only-of-type {\n",
       "        vertical-align: middle;\n",
       "    }\n",
       "\n",
       "    .dataframe tbody tr th {\n",
       "        vertical-align: top;\n",
       "    }\n",
       "\n",
       "    .dataframe thead th {\n",
       "        text-align: right;\n",
       "    }\n",
       "</style>\n",
       "<table border=\"1\" class=\"dataframe\">\n",
       "  <thead>\n",
       "    <tr style=\"text-align: right;\">\n",
       "      <th></th>\n",
       "      <th>코스(상품) 이름</th>\n",
       "    </tr>\n",
       "  </thead>\n",
       "  <tbody>\n",
       "    <tr>\n",
       "      <th>0</th>\n",
       "      <td>올인원 패키지 : 김왼손의 파이썬 업무자동화 유치원</td>\n",
       "    </tr>\n",
       "    <tr>\n",
       "      <th>1</th>\n",
       "      <td>초격차 패키지 : 한 번에 끝내는 부동산 금융(PF) 실무</td>\n",
       "    </tr>\n",
       "    <tr>\n",
       "      <th>2</th>\n",
       "      <td>편집하는여자의 영상편집 마스터클래스 - 제 6강 다양한 효과를 응용하여 애프터이펙트...</td>\n",
       "    </tr>\n",
       "    <tr>\n",
       "      <th>3</th>\n",
       "      <td>초격차 패키지 : 35개 프로젝트로 배우는 Android 앱 개발 feat. Jet...</td>\n",
       "    </tr>\n",
       "    <tr>\n",
       "      <th>4</th>\n",
       "      <td>초격차 패키지 : 개발자 취업 합격 패스 With 코딩테스트, 기술면접</td>\n",
       "    </tr>\n",
       "    <tr>\n",
       "      <th>...</th>\n",
       "      <td>...</td>\n",
       "    </tr>\n",
       "    <tr>\n",
       "      <th>159323</th>\n",
       "      <td>올인원 패키지 : 제 2의 월급을 만들어주는 직장인 스몰비즈니스 가이드</td>\n",
       "    </tr>\n",
       "    <tr>\n",
       "      <th>159324</th>\n",
       "      <td>[Kit] 닷밀의 미디어아트 그래픽 클래스 : 모션그래픽 뉴패러다임 Creative...</td>\n",
       "    </tr>\n",
       "    <tr>\n",
       "      <th>159325</th>\n",
       "      <td>올인원 패키지 : 파이썬을 활용한 데이터 전처리 Level UP</td>\n",
       "    </tr>\n",
       "    <tr>\n",
       "      <th>159326</th>\n",
       "      <td>올인원 패키지 : 100억을 움직이는 50가지 PPT 디자인 원칙</td>\n",
       "    </tr>\n",
       "    <tr>\n",
       "      <th>159327</th>\n",
       "      <td>올인원 패키지 : 머신러닝 서비스 구축을 위한 실전 MLOps</td>\n",
       "    </tr>\n",
       "  </tbody>\n",
       "</table>\n",
       "<p>159328 rows × 1 columns</p>\n",
       "</div>"
      ],
      "text/plain": [
       "                                                코스(상품) 이름\n",
       "0                            올인원 패키지 : 김왼손의 파이썬 업무자동화 유치원\n",
       "1                        초격차 패키지 : 한 번에 끝내는 부동산 금융(PF) 실무\n",
       "2       편집하는여자의 영상편집 마스터클래스 - 제 6강 다양한 효과를 응용하여 애프터이펙트...\n",
       "3       초격차 패키지 : 35개 프로젝트로 배우는 Android 앱 개발 feat. Jet...\n",
       "4                 초격차 패키지 : 개발자 취업 합격 패스 With 코딩테스트, 기술면접\n",
       "...                                                   ...\n",
       "159323            올인원 패키지 : 제 2의 월급을 만들어주는 직장인 스몰비즈니스 가이드\n",
       "159324  [Kit] 닷밀의 미디어아트 그래픽 클래스 : 모션그래픽 뉴패러다임 Creative...\n",
       "159325                올인원 패키지 : 파이썬을 활용한 데이터 전처리 Level UP\n",
       "159326               올인원 패키지 : 100억을 움직이는 50가지 PPT 디자인 원칙\n",
       "159327                 올인원 패키지 : 머신러닝 서비스 구축을 위한 실전 MLOps\n",
       "\n",
       "[159328 rows x 1 columns]"
      ]
     },
     "execution_count": 24,
     "metadata": {},
     "output_type": "execute_result"
    }
   ],
   "source": [
    "df"
   ]
  },
  {
   "cell_type": "code",
   "execution_count": 25,
   "metadata": {},
   "outputs": [],
   "source": [
    "df['코스(상품) 이름'] = df['코스(상품) 이름'].str.split(':').str.get(1)"
   ]
  },
  {
   "cell_type": "code",
   "execution_count": 26,
   "metadata": {},
   "outputs": [
    {
     "data": {
      "text/plain": [
       "159328"
      ]
     },
     "execution_count": 26,
     "metadata": {},
     "output_type": "execute_result"
    }
   ],
   "source": [
    "len(df[df.isna()])"
   ]
  },
  {
   "cell_type": "code",
   "execution_count": 21,
   "metadata": {},
   "outputs": [
    {
     "name": "stderr",
     "output_type": "stream",
     "text": [
      "/var/folders/c0/xf74xblj0mjg97lcm0jrxxcm0000gn/T/ipykernel_21749/1850786243.py:6: DeprecationWarning: executable_path has been deprecated, please pass in a Service object\n",
      "  driver = webdriver.Chrome(executable_path=driver_path)\n"
     ]
    },
    {
     "ename": "AttributeError",
     "evalue": "'WebDriver' object has no attribute 'find_element_by_class_name'",
     "output_type": "error",
     "traceback": [
      "\u001b[0;31m---------------------------------------------------------------------------\u001b[0m",
      "\u001b[0;31mAttributeError\u001b[0m                            Traceback (most recent call last)",
      "\u001b[1;32m/Users/b31/Documents/class/mini_project/name_match.ipynb 셀 6\u001b[0m in \u001b[0;36m<cell line: 14>\u001b[0;34m()\u001b[0m\n\u001b[1;32m     <a href='vscode-notebook-cell:/Users/b31/Documents/class/mini_project/name_match.ipynb#W6sZmlsZQ%3D%3D?line=10'>11</a>\u001b[0m time\u001b[39m.\u001b[39msleep(\u001b[39m5\u001b[39m)\n\u001b[1;32m     <a href='vscode-notebook-cell:/Users/b31/Documents/class/mini_project/name_match.ipynb#W6sZmlsZQ%3D%3D?line=11'>12</a>\u001b[0m \u001b[39m# 검색 창을 찾아서 클릭합니다.\u001b[39;00m\n\u001b[0;32m---> <a href='vscode-notebook-cell:/Users/b31/Documents/class/mini_project/name_match.ipynb#W6sZmlsZQ%3D%3D?line=13'>14</a>\u001b[0m search_box \u001b[39m=\u001b[39m driver\u001b[39m.\u001b[39;49mfind_element_by_class_name(\u001b[39m'\u001b[39m\u001b[39msearch-form\u001b[39m\u001b[39m'\u001b[39m)\n\u001b[1;32m     <a href='vscode-notebook-cell:/Users/b31/Documents/class/mini_project/name_match.ipynb#W6sZmlsZQ%3D%3D?line=14'>15</a>\u001b[0m search_box\u001b[39m.\u001b[39mclick()\n\u001b[1;32m     <a href='vscode-notebook-cell:/Users/b31/Documents/class/mini_project/name_match.ipynb#W6sZmlsZQ%3D%3D?line=16'>17</a>\u001b[0m \u001b[39m# 검색어를 입력합니다.\u001b[39;00m\n",
      "\u001b[0;31mAttributeError\u001b[0m: 'WebDriver' object has no attribute 'find_element_by_class_name'"
     ]
    }
   ],
   "source": [
    "from selenium import webdriver\n",
    "from selenium.webdriver.common.keys import Keys\n",
    "import time\n",
    "\n",
    "driver_path = \"/Users/b31/Documents/class/chromedriver\" # 드라이버의 경로를 지정합니다.\n",
    "driver = webdriver.Chrome(executable_path=driver_path)\n",
    "\n",
    "url = \"https://fastcampus.co.kr/\"\n",
    "driver.get(url)\n",
    "\n",
    "time.sleep(5)\n",
    "# 검색 창을 찾아서 클릭합니다.\n",
    "\n",
    "search_box = driver.find_element_by_class_name('search-form')\n",
    "search_box.click()\n",
    "\n",
    "# 검색어를 입력합니다.\n",
    "search_box.send_keys('강의 주제')\n",
    "\n",
    "# Enter 키를 눌러 검색을 수행합니다.\n",
    "search_box.send_keys(Keys.ENTER)\n",
    "\n",
    "# 웹 드라이버를 종료합니다.\n",
    "driver.quit()\n"
   ]
  },
  {
   "cell_type": "code",
   "execution_count": null,
   "metadata": {},
   "outputs": [],
   "source": []
  }
 ],
 "metadata": {
  "kernelspec": {
   "display_name": "yd_class",
   "language": "python",
   "name": "python3"
  },
  "language_info": {
   "codemirror_mode": {
    "name": "ipython",
    "version": 3
   },
   "file_extension": ".py",
   "mimetype": "text/x-python",
   "name": "python",
   "nbconvert_exporter": "python",
   "pygments_lexer": "ipython3",
   "version": "3.9.16"
  },
  "orig_nbformat": 4
 },
 "nbformat": 4,
 "nbformat_minor": 2
}
